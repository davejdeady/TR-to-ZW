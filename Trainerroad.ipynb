{
 "cells": [
  {
   "cell_type": "code",
   "execution_count": 1,
   "metadata": {},
   "outputs": [],
   "source": [
    "import os\n",
    "\n",
    "from IPython.display import FileLink\n",
    "from decouple import config\n",
    "\n",
    "from trainerroad.Utils.Str import TRAINERROAD_USER, TRAINERROAD_PASSWORD"
   ]
  },
  {
   "cell_type": "code",
   "execution_count": 2,
   "metadata": {},
   "outputs": [],
   "source": [
    "from trainerroad.Controller.Zwift import Zwift"
   ]
  },
  {
   "cell_type": "code",
   "execution_count": 3,
   "metadata": {
    "pycharm": {
     "name": "#%%\n"
    }
   },
   "outputs": [],
   "source": [
    "os.environ[TRAINERROAD_USER] = \"\"\n",
    "os.environ[TRAINERROAD_PASSWORD] = \"\""
   ]
  },
  {
   "cell_type": "code",
   "execution_count": 4,
   "metadata": {
    "pycharm": {
     "name": "#%%\n"
    }
   },
   "outputs": [],
   "source": [
    "START_DATE = \"\"  ## By default today's date\n",
    "END_DATE = \"\"  ## By default today's date plus 3 years\n",
    "INCLUDE_DATE = False  ## if True Download the whole calendar including daily workouts\n",
    "COMPRESS_ZIP = True\n",
    "output_path = \"output\"\n",
    "output_uri = os.path.join(os.getcwd(), output_path)"
   ]
  },
  {
   "cell_type": "code",
   "execution_count": 5,
   "metadata": {
    "pycharm": {
     "name": "#%%\n"
    }
   },
   "outputs": [
    {
     "name": "stderr",
     "output_type": "stream",
     "text": [
      "Logged into TrainerRoad as \"lrrieta1526@gmail.com\"\n"
     ]
    }
   ],
   "source": [
    "zwift_manager = Zwift(username=config(TRAINERROAD_USER), password=config(TRAINERROAD_PASSWORD),\n",
    "                      output_folder=output_path)\n"
   ]
  },
  {
   "cell_type": "code",
   "execution_count": 6,
   "metadata": {
    "pycharm": {
     "name": "#%%\n"
    },
    "scrolled": true
   },
   "outputs": [
    {
     "name": "stderr",
     "output_type": "stream",
     "text": [
      "WARNING:trainerroad.Model.TrainerRoad:Logged into TrainerRoad as \"lrrieta1526@gmail.com\"\n",
      "WARNING:root:Successfully compressed workout, saved in: output/training_plan_30_11_2021_23_18_15.zip\n"
     ]
    }
   ],
   "source": [
    "plans = await zwift_manager.export_training_plan(start_date=START_DATE, include_date=INCLUDE_DATE,\n",
    "                                                 compress=COMPRESS_ZIP)\n"
   ]
  },
  {
   "cell_type": "code",
   "execution_count": 7,
   "metadata": {
    "pycharm": {
     "name": "#%%\n"
    },
    "scrolled": true
   },
   "outputs": [
    {
     "data": {
      "text/html": [
       "<a href='output/training_plan_30_11_2021_23_18_15.zip' target='_blank'>output/training_plan_30_11_2021_23_18_15.zip</a><br>"
      ],
      "text/plain": [
       "/home/berenjena/TrainerRoad-to-Zwift/output/training_plan_30_11_2021_23_18_15.zip"
      ]
     },
     "execution_count": 7,
     "metadata": {},
     "output_type": "execute_result"
    }
   ],
   "source": [
    "FileLink(zwift_manager.zipfile)"
   ]
  }
 ],
 "metadata": {
  "kernelspec": {
   "display_name": "Python 3 (ipykernel)",
   "language": "python",
   "name": "python3"
  },
  "language_info": {
   "codemirror_mode": {
    "name": "ipython",
    "version": 3
   },
   "file_extension": ".py",
   "mimetype": "text/x-python",
   "name": "python",
   "nbconvert_exporter": "python",
   "pygments_lexer": "ipython3",
   "version": "3.9.0"
  }
 },
 "nbformat": 4,
 "nbformat_minor": 1
}